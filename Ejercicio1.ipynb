{
 "cells": [
  {
   "cell_type": "markdown",
   "id": "3f17bc48",
   "metadata": {},
   "source": [
    "# EJERCICIO 1\n",
    "Supongamos la extracción aleatoria de 8 elementos de un conjunto formado por 40 elementos totales (cartas baraja española) de los cuales 10 son del tipo A (salir oro) y 30 son del tipo complementario (no salir oro).\n",
    "Si realizamos las extracciones sin devolver los elementos extraídos y llamamos X al número de elementos del tipo A (oros obtenidos) que extraemos en las 8 cartas; X seguirá una distribución hipergeométrica de parámetros 40 , 8 , 10/40.H(40,8,0,25).\n",
    "Para calcular la probabilidad de obtener 4 oros:\n"
   ]
  },
  {
   "cell_type": "code",
   "execution_count": 3,
   "id": "2e6bf652",
   "metadata": {},
   "outputs": [
    {
     "name": "stdout",
     "output_type": "stream",
     "text": [
      "La probabilidad de obtener exactamente 4 oros al sacar 8 cartas es: 0.0748 o 7.48%\n"
     ]
    }
   ],
   "source": [
    "import math\n",
    "\n",
    "def combinacion(n, r):\n",
    "    return math.comb(n, r)\n",
    "\n",
    "# Datos del problema\n",
    "N = 40       # Total de cartas\n",
    "K = 10       # Oros\n",
    "n = 8        # Cartas extraídas\n",
    "k = 4        # Oros deseados\n",
    "\n",
    "# Cálculo hipergeométrico\n",
    "numerador = combinacion(K, k) * combinacion(N - K, n - k)\n",
    "denominador = combinacion(N, n)\n",
    "probabilidad = numerador / denominador\n",
    "\n",
    "print(f\"La probabilidad de obtener exactamente 4 oros al sacar 8 cartas es: {probabilidad:.4f} o {probabilidad*100:.2f}%\")"
   ]
  }
 ],
 "metadata": {
  "kernelspec": {
   "display_name": "Python 3",
   "language": "python",
   "name": "python3"
  },
  "language_info": {
   "codemirror_mode": {
    "name": "ipython",
    "version": 3
   },
   "file_extension": ".py",
   "mimetype": "text/x-python",
   "name": "python",
   "nbconvert_exporter": "python",
   "pygments_lexer": "ipython3",
   "version": "3.11.9"
  }
 },
 "nbformat": 4,
 "nbformat_minor": 5
}
