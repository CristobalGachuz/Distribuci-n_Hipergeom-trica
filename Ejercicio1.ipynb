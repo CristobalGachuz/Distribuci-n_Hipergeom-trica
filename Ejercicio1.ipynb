{
 "cells": [
  {
   "cell_type": "markdown",
   "id": "3f17bc48",
   "metadata": {},
   "source": [
    "# Ejercicio.1 \n",
    "### [siguiente](#Ejercicio.2)\n",
    "Supongamos la extracción aleatoria de 8 elementos de un conjunto formado por 40 elementos totales (cartas baraja española) de los cuales 10 son del tipo A (salir oro) y 30 son del tipo complementario (no salir oro).\n",
    "Si realizamos las extracciones sin devolver los elementos extraídos y llamamos X al número de elementos del tipo A (oros obtenidos) que extraemos en las 8 cartas; X seguirá una distribución hipergeométrica de parámetros 40 , 8 , 10/40.H(40,8,0,25).\n",
    "Para calcular la probabilidad de obtener 4 oros:\n"
   ]
  },
  {
   "cell_type": "code",
   "execution_count": 3,
   "id": "2e6bf652",
   "metadata": {},
   "outputs": [
    {
     "name": "stdout",
     "output_type": "stream",
     "text": [
      "La probabilidad de obtener exactamente 4 oros al sacar 8 cartas es: 0.0748 o 7.48%\n"
     ]
    }
   ],
   "source": [
    "import math\n",
    "\n",
    "def combinacion(n, r):\n",
    "    return math.comb(n, r)\n",
    "\n",
    "# Datos del problema\n",
    "N = 40       # Total de cartas\n",
    "K = 10       # Oros\n",
    "n = 8        # Cartas extraídas\n",
    "k = 4        # Oros deseados\n",
    "\n",
    "# Cálculo hipergeométrico\n",
    "numerador = combinacion(K, k) * combinacion(N - K, n - k)\n",
    "denominador = combinacion(N, n)\n",
    "probabilidad = numerador / denominador\n",
    "\n",
    "print(f\"La probabilidad de obtener exactamente 4 oros al sacar 8 cartas es: {probabilidad:.4f} o {probabilidad*100:.2f}%\")"
   ]
  },
  {
   "cell_type": "markdown",
   "id": "fd478546",
   "metadata": {},
   "source": [
    "# Ejercicio.2 \n",
    "### [Anterior](#Ejercicio.1) [siguiente](#Ejercicio.3)\n",
    "- Para evitar que lo descubran en la aduana, un viajero ha colocado 6 tabletas de narcótico en una botella que contiene 9 píldoras de vitamina que son similares en apariencia. Si el oficial de la aduana selecciona 3 tabletas aleatoriamente para analizarlas,\n",
    "a. ¿Cuál es la probabilidad de que el viajero sea arrestado por posesión de narcóticos? "
   ]
  },
  {
   "cell_type": "code",
   "execution_count": 4,
   "id": "fe7a0cb2",
   "metadata": {},
   "outputs": [
    {
     "name": "stdout",
     "output_type": "stream",
     "text": [
      "La probabilidad de que el viajero sea arrestado es: 0.8154 o 81.54%\n"
     ]
    }
   ],
   "source": [
    "import math\n",
    "\n",
    "def combinacion(n, r):\n",
    "    return math.comb(n, r)\n",
    "\n",
    "# Datos\n",
    "total = 15          # N = 6 narcóticos + 9 vitaminas\n",
    "narcoticos = 6      # K\n",
    "vitaminas = 9\n",
    "muestra = 3         # n\n",
    "\n",
    "# P(ningún narcótico) = todas las pastillas seleccionadas son vitaminas\n",
    "p_cero_narcotico = combinacion(vitaminas, muestra) / combinacion(total, muestra)\n",
    "\n",
    "# P(al menos un narcótico) = 1 - P(ninguno)\n",
    "p_arresto = 1 - p_cero_narcotico\n",
    "\n",
    "print(f\"La probabilidad de que el viajero sea arrestado es: {p_arresto:.4f} o {p_arresto*100:.2f}%\")"
   ]
  },
  {
   "cell_type": "markdown",
   "id": "59bc5c4d",
   "metadata": {},
   "source": [
    "# Ejercicio.3\n",
    "### [Anterior](#Ejercicio.2)\n",
    " Una tienda de artículos eléctricos tiene 20 planchas, de las cuales 5\n",
    "son amarillas. Si se extraen aleatoriamente y sin sustitución 10 planchas ¿Cuál es la probabilidad de que dos de ellas sean amarillas?\n"
   ]
  },
  {
   "cell_type": "code",
   "execution_count": 5,
   "id": "8909b84d",
   "metadata": {},
   "outputs": [
    {
     "name": "stdout",
     "output_type": "stream",
     "text": [
      "La probabilidad de obtener exactamente 2 planchas amarillas es: 0.3483 o 34.83%\n"
     ]
    }
   ],
   "source": [
    "import math\n",
    "\n",
    "def combinacion(n, r):\n",
    "    return math.comb(n, r)\n",
    "\n",
    "# Datos\n",
    "N = 20      # Total de planchas\n",
    "K = 5       # Amarillas\n",
    "n = 10      # Se seleccionan\n",
    "k = 2       # Queremos 2 amarillas\n",
    "\n",
    "# Cálculo de probabilidad hipergeométrica\n",
    "numerador = combinacion(K, k) * combinacion(N - K, n - k)\n",
    "denominador = combinacion(N, n)\n",
    "probabilidad = numerador / denominador\n",
    "\n",
    "print(f\"La probabilidad de obtener exactamente 2 planchas amarillas es: {probabilidad:.4f} o {probabilidad*100:.2f}%\")"
   ]
  }
 ],
 "metadata": {
  "kernelspec": {
   "display_name": "Python 3",
   "language": "python",
   "name": "python3"
  },
  "language_info": {
   "codemirror_mode": {
    "name": "ipython",
    "version": 3
   },
   "file_extension": ".py",
   "mimetype": "text/x-python",
   "name": "python",
   "nbconvert_exporter": "python",
   "pygments_lexer": "ipython3",
   "version": "3.11.9"
  }
 },
 "nbformat": 4,
 "nbformat_minor": 5
}
