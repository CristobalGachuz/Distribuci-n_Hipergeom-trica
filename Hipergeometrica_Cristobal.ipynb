{
 "cells": [
  {
   "cell_type": "markdown",
   "id": "11b1c24e",
   "metadata": {},
   "source": [
    "# [Menu](#Menú)\n",
    "\n",
    "* [Ejemplo 1](#Ejemplo.1)\n",
    "* [Ejemplo 2](#Ejemplo.2)\n",
    "* [Ejemplo 3](#Ejemplo.3)\n",
    "* [Ejemplo 4](#Ejemplo.4)\n",
    "* [Ejemplo 5](#Ejemplo.5)\n",
    "* [Ejemplo 6](#Ejemplo.6)\n",
    "* [Ejemplo 7](#Ejemplo.7)\n",
    "* [Ejemplo 8](#Ejemplo.8)\n",
    "* [Ejemplo 9](#Ejemplo.9)"
   ]
  },
  {
   "cell_type": "markdown",
   "id": "0ae2509f",
   "metadata": {},
   "source": [
    "## Problemas de Distribucion Hipergeometrica"
   ]
  },
  {
   "cell_type": "markdown",
   "id": "8ac97691",
   "metadata": {},
   "source": [
    "La distribución hipergeométrica es un concepto fundamental en la teoría de la probabilidad y la estadística. Se utiliza para modelar el número de éxitos en una muestra de tamaño fijo, extraída sin reemplazo de una población finita. En otras palabras, describe la probabilidad de obtener un cierto número de elementos de un tipo específico (éxitos) al seleccionar un número determinado de elementos de un grupo más grande, donde la selección se realiza sin devolver los elementos seleccionados a la población original. "
   ]
  },
  {
   "cell_type": "markdown",
   "id": "ca5f4320",
   "metadata": {},
   "source": [
    "$$\n",
    "P(X = k) = \\frac{{\\binom{K}{k} \\cdot \\binom{N-K}{n-x}}}{{\\binom{N}{n}}}\n",
    "$$"
   ]
  },
  {
   "cell_type": "markdown",
   "id": "413d9f25",
   "metadata": {},
   "source": [
    "### Ejemplo.1 \n",
    "### [Menú](#Menu) | [Siguiente](#Ejemplo.2)\n",
    "\n",
    "Lotes con 40 componentes cada uno que contengan 3 o más defectuosos se consideran\n",
    "inaceptables. El procedimiento para obtener muestras del lote consiste en seleccionar 5\n",
    "componentes al azar y rechazar el lote si se encuentra un componente defectuoso. ¿Cuál\n",
    "es la probabilidad de, que en la muestra, se encuentre exactamente un componente defectuoso, si en todo el lote hay 3 defectuosos?"
   ]
  },
  {
   "cell_type": "code",
   "execution_count": 16,
   "id": "b806e689",
   "metadata": {},
   "outputs": [
    {
     "name": "stdout",
     "output_type": "stream",
     "text": [
      "Probabilidad de encontrar exactamente 1 componente defectuoso: 0.3011\n"
     ]
    }
   ],
   "source": [
    "import scipy.stats as stats\n",
    "\n",
    "# Parámetros\n",
    "N = 40  # Total de componentes\n",
    "K = 3   # Componentes defectuosos\n",
    "n = 5   # Tamaño de la muestra\n",
    "k = 1   # Componentes defectuosos en la muestra\n",
    "\n",
    "# Calcular la probabilidad de encontrar exactamente 1 componente defectuoso\n",
    "probabilidad = stats.hypergeom.pmf(k, N, K, n)\n",
    "\n",
    "# Imprimir el resultado\n",
    "print(f\"Probabilidad de encontrar exactamente 1 componente defectuoso: {probabilidad:.4f}\")"
   ]
  },
  {
   "cell_type": "markdown",
   "id": "d0c19c2a",
   "metadata": {},
   "source": [
    "## Ejemplo.2\n",
    "### [Anterior](#Ejemplo.1) | [Menú](#Menu) | [Siguiente](#Ejemplo.3)\n",
    "\n",
    "Se capturaron, etiquetaron y liberaron cinco individuos de una población de animales que\n",
    "se piensa están al borde de la extinción en una región para que se mezclen con la población.\n",
    "Después de haber tenido la oportunidad de mezclarse, se selecciona una muestra aleatoria\n",
    "de 10 de estos animales. Sea X  el número de animales etiquetados en la segunda muestra. Si en realidad hay 25 animales de este tipo en la región, ¿cuál es la probabilidad de que\n",
    "\n",
    "a) X  2? b) ¿X \u0012 2?"
   ]
  },
  {
   "cell_type": "code",
   "execution_count": 14,
   "id": "c291b833",
   "metadata": {},
   "outputs": [
    {
     "name": "stdout",
     "output_type": "stream",
     "text": [
      "Probabilidad de exactamente 2 animales etiquetados: 0.3854\n",
      "Probabilidad de a lo sumo 2 animales etiquetados: 0.6988\n"
     ]
    }
   ],
   "source": [
    "import scipy.stats as stats\n",
    "\n",
    "# Parámetros\n",
    "N = 25  # Total de animales\n",
    "K = 5   # Animales etiquetados\n",
    "n = 10  # Tamaño de la muestra\n",
    "\n",
    "# a) Probabilidad de exactamente 2 animales etiquetados\n",
    "p_exactly_2 = stats.hypergeom.pmf(2, N, K, n)\n",
    "\n",
    "# b) Probabilidad de a lo sumo 2 animales etiquetados\n",
    "p_at_most_2 = sum(stats.hypergeom.pmf(k, N, K, n) for k in range(3))\n",
    "\n",
    "# Imprimir resultados\n",
    "print(f\"Probabilidad de exactamente 2 animales etiquetados: {p_exactly_2:.4f}\")\n",
    "print(f\"Probabilidad de a lo sumo 2 animales etiquetados: {p_at_most_2:.4f}\")"
   ]
  },
  {
   "cell_type": "markdown",
   "id": "2d234708",
   "metadata": {},
   "source": [
    "## Ejemplo.3\n",
    "\n",
    "### [Anterior](#Ejemplo.2) | [Menú](#Menu) | [Siguiente](#Ejemplo.4)\n",
    "Durante un periodo particular una oficina de tecnología de la información de una universidad recibió 20 solicitudes de servicio de problemas con impresoras, de las cuales 8 eran impresoras láser y 12 eran modelos de inyección de tinta. Se tiene que seleccionar una muestra\n",
    "de 5 de estas solicitudes de servicio completamente al azar, de modo que cualquier subconjunto de tamaño 5 tenga la misma probabilidad de ser seleccionado como cualquier otro\n",
    "subconjunto (piense en escribir los números 1, 2, . . . , 20 en 20 papelitos idénticos, mezclarlos y seleccionar 5 de ellos). ¿Cuál es entonces la probabilidad de que exactamente\n",
    "x(x  0, 1, 2, 3, 4 o 5) de las solicitudes de servicio fueran para impresoras de inyección de\n",
    "tinta?"
   ]
  },
  {
   "cell_type": "code",
   "execution_count": 15,
   "id": "ebdc038f",
   "metadata": {},
   "outputs": [
    {
     "name": "stdout",
     "output_type": "stream",
     "text": [
      "P(X = 0) = 0.0036\n",
      "P(X = 1) = 0.0542\n",
      "P(X = 2) = 0.2384\n",
      "P(X = 3) = 0.3973\n",
      "P(X = 4) = 0.2554\n",
      "P(X = 5) = 0.0511\n"
     ]
    }
   ],
   "source": [
    "import scipy.stats as stats\n",
    "\n",
    "# Parámetros\n",
    "N = 20  # Total de solicitudes\n",
    "K = 12  # Solicitudes de inyección de tinta\n",
    "n = 5   # Tamaño de la muestra\n",
    "\n",
    "# Calcular y mostrar la probabilidad para cada valor de x\n",
    "for x in range(6):\n",
    "    probabilidad = stats.hypergeom.pmf(x, N, K, n)\n",
    "    print(f\"P(X = {x}) = {probabilidad:.4f}\")"
   ]
  },
  {
   "cell_type": "markdown",
   "id": "e61cbbfa",
   "metadata": {},
   "source": [
    "## Ejemplo.4\n",
    "\n",
    "### [Anterior](#Ejemplo.3) | [Menú](#Menu) | [Siguiente](#Ejemplo.5)\n",
    "Un tipo de cámara digital viene en una versión de 3 megapixeles o una versión de 4 megapixeles. Una tienda de cámaras recibió un envío de 15 de estas cámaras, de las cuales 6\n",
    "tienen una resolución de 3 megapixeles. Suponga que se\n",
    "seleccionan al azar 5 de estas cámaras para guardarlas detrás\n",
    "del mostrador; las otras 10 se colocan en una bodega. Sea\n",
    "X  el número de cámaras de 3 megapixeles entre las 5 seleccionadas para guardarlas detrás del mostrador.\n",
    "\n",
    "a. ¿Qué distribución tiene X (nombre y valores de todos los\n",
    "parámetros)?\n",
    "\n",
    "b. Calcule P(X = 2),P(X≤2) y P(X≥2)\n",
    "\n",
    "c. Calcule el valor medio y la desviación estándar de X.\n",
    "\n"
   ]
  },
  {
   "cell_type": "code",
   "execution_count": 21,
   "id": "5209e9d4",
   "metadata": {},
   "outputs": [
    {
     "name": "stdout",
     "output_type": "stream",
     "text": [
      "P(X = 2)     = 0.4196\n",
      "P(X <= 2)    = 0.7133\n",
      "P(X >= 2)    = 0.7063\n",
      "Media (E[X]) = 2.0000\n",
      "Desv. estándar = 0.9258\n"
     ]
    }
   ],
   "source": [
    "from scipy.stats import hypergeom\n",
    "\n",
    "# Parámetros del problema\n",
    "N = 15     # Tamaño total de la población\n",
    "K = 6      # Número total de cámaras de 3 MP (éxitos)\n",
    "n = 5      # Tamaño de la muestra\n",
    "\n",
    "# Distribución hipergeométrica\n",
    "rv = hypergeom(N, K, n)\n",
    "\n",
    "# a) P(X = 2)\n",
    "p_eq_2 = rv.pmf(2)\n",
    "\n",
    "# b) P(X <= 2)\n",
    "p_leq_2 = rv.cdf(2)\n",
    "\n",
    "#    P(X >= 2) = 1 - P(X <= 1)\n",
    "p_geq_2 = 1 - rv.cdf(1)\n",
    "\n",
    "# c) Esperanza y desviación estándar\n",
    "media = rv.mean()\n",
    "desviacion = rv.std()\n",
    "\n",
    "# Mostrar resultados\n",
    "print(f\"P(X = 2)     = {p_eq_2:.4f}\")\n",
    "print(f\"P(X <= 2)    = {p_leq_2:.4f}\")\n",
    "print(f\"P(X >= 2)    = {p_geq_2:.4f}\")\n",
    "print(f\"Media (E[X]) = {media:.4f}\")\n",
    "print(f\"Desv. estándar = {desviacion:.4f}\")"
   ]
  },
  {
   "cell_type": "markdown",
   "id": "ae60ea0d",
   "metadata": {},
   "source": [
    "## Ejemplo.5\n",
    "\n",
    "### [Anterior](#Ejemplo.4) | [Menú](#Menu) | [Siguiente](#Ejemplo.6)\n",
    "\n",
    "- Un director de personal que va a entrevistar a 11 ingenieros\n",
    "para cuatro vacantes de trabajo ha programado seis entrevistas para el primer día y cinco para el segundo. Suponga que\n",
    "los candidatos son entrevistados en orden aleatorio.\n",
    "\n",
    "a. ¿Cuál es la probabilidad que x de los cuatro mejores candidatos sean entrevistados el primer día?\n",
    "\n",
    "b. ¿Cuántos de los mejores cuatro candidatos se espera que puedan ser entrevistados el primer día?"
   ]
  },
  {
   "cell_type": "code",
   "execution_count": 22,
   "id": "3f48b8f2",
   "metadata": {},
   "outputs": [
    {
     "name": "stdout",
     "output_type": "stream",
     "text": [
      "P(X = 0) = 0.0152\n",
      "P(X = 1) = 0.1818\n",
      "P(X = 2) = 0.4545\n",
      "P(X = 3) = 0.3030\n",
      "P(X = 4) = 0.0455\n",
      "\n",
      "Valor esperado (media): E[X] = 2.1818\n"
     ]
    }
   ],
   "source": [
    "import math\n",
    "import matplotlib.pyplot as plt\n",
    "\n",
    "# Función para calcular combinaciones\n",
    "def combinacion(n, r):\n",
    "    return math.comb(n, r)\n",
    "\n",
    "# Parámetros del problema\n",
    "N = 11   # Total de candidatos\n",
    "K = 4    # Mejores candidatos\n",
    "n = 6    # Entrevistas el primer día\n",
    "\n",
    "# Lista de probabilidades para x = 0 hasta 4\n",
    "probabilidades = []\n",
    "valores_x = list(range(0, K + 1))  # Posibles valores de x: 0 a 4\n",
    "\n",
    "for x in valores_x:\n",
    "    if 0 <= x <= n and 0 <= n - x <= N - K:\n",
    "        num = combinacion(K, x) * combinacion(N - K, n - x)\n",
    "        den = combinacion(N, n)\n",
    "        p = num / den\n",
    "        probabilidades.append(p)\n",
    "    else:\n",
    "        probabilidades.append(0)\n",
    "\n",
    "# Valor esperado\n",
    "esperanza = n * (K / N)\n",
    "\n",
    "# Mostrar resultados\n",
    "for x, p in zip(valores_x, probabilidades):\n",
    "    print(f\"P(X = {x}) = {p:.4f}\")\n",
    "\n",
    "print(f\"\\nValor esperado (media): E[X] = {esperanza:.4f}\")"
   ]
  },
  {
   "cell_type": "markdown",
   "id": "e5be9193",
   "metadata": {},
   "source": [
    "## Ejemplo.6\n",
    "\n",
    "### [Anterior](#Ejemplo.5) | [Menú](#Menu) | [Siguiente](#Ejemplo.7)\n",
    "\n",
    "Una tienda de artículos eléctricos tiene 20 planchas, de las cuales 5\n",
    "son amarillas. Si se extraen aleatoriamente y sin sustitución 10 planchas ¿Cuál es la probabilidad de que dos de ellas sean amarillas?"
   ]
  },
  {
   "cell_type": "code",
   "execution_count": 23,
   "id": "b1c19eed",
   "metadata": {},
   "outputs": [
    {
     "name": "stdout",
     "output_type": "stream",
     "text": [
      "La probabilidad de obtener exactamente 2 planchas amarillas es: 0.3483 o 34.83%\n"
     ]
    },
    {
     "data": {
      "image/png": "[encoded data removed]",
      "text/plain": [
       "<Figure size 640x480 with 1 Axes>"
      ]
     },
     "metadata": {},
     "output_type": "display_data"
    }
   ],
   "source": [
    "import math\n",
    "\n",
    "def combinacion(n, r):\n",
    "    return math.comb(n, r)\n",
    "\n",
    "# Datos\n",
    "N = 20      # Total de planchas\n",
    "K = 5       # Amarillas\n",
    "n = 10      # Se seleccionan\n",
    "k = 2       # Queremos 2 amarillas\n",
    "\n",
    "# Cálculo de probabilidad hipergeométrica\n",
    "numerador = combinacion(K, k) * combinacion(N - K, n - k)\n",
    "denominador = combinacion(N, n)\n",
    "probabilidad = numerador / denominador\n",
    "\n",
    "print(f\"La probabilidad de obtener exactamente 2 planchas amarillas es: {probabilidad:.4f} o {probabilidad*100:.2f}%\")\n",
    "# Gráfica\n",
    "plt.bar(valores_x, probabilidades, color='skyblue', edgecolor='black')\n",
    "plt.title('Distribución Hipergeométrica: Entrevistas a los mejores candidatos')\n",
    "plt.xlabel('x = Mejores candidatos entrevistados el primer día')\n",
    "plt.ylabel('P(X = x)')\n",
    "plt.grid(axis='y', linestyle='--', alpha=0.7)\n",
    "plt.xticks(valores_x)\n",
    "plt.show()"
   ]
  },
  {
   "cell_type": "markdown",
   "id": "dadc0de2",
   "metadata": {},
   "source": [
    "## Ejemplo.7\n",
    "\n",
    "### [Anterior](#Ejemplo.6) | [Menú](#Menu) | [Siguiente](#Ejemplo.8)\n",
    "\n",
    "Veinte parejas de individuos que participan en un torneo de\n",
    "bridge han sido sembrados del 1, . . . , 20. En esta primera\n",
    "parte del torneo, los 20 son divididos al azar en 10 parejas\n",
    "este-oeste y 10 parejas norte-sur.\n",
    "\n",
    "\n",
    "a. ¿Cuál es la probabilidad de que x de las 10 mejores parejas terminen jugando este-oeste?\n",
    "b. ¿Cuál es la probabilidad de que las cinco mejores parejas\n",
    "terminen jugando en la misma dirección?\n",
    "c. Si existen 2n parejas, ¿cuál es la función masa de probabilidad de X  el número entre las mejores n parejas que\n",
    "terminan jugando este-oeste? ¿Cuáles son E(X) y V(X)?"
   ]
  },
  {
   "cell_type": "code",
   "execution_count": 24,
   "id": "093b674a",
   "metadata": {},
   "outputs": [
    {
     "name": "stdout",
     "output_type": "stream",
     "text": [
      "=== a) P(X = x) para x = 0 a 10 ===\n",
      "P(X = 0) = 0.0000\n",
      "P(X = 1) = 0.0005\n",
      "P(X = 2) = 0.0110\n",
      "P(X = 3) = 0.0779\n",
      "P(X = 4) = 0.2387\n",
      "P(X = 5) = 0.3437\n",
      "P(X = 6) = 0.2387\n",
      "P(X = 7) = 0.0779\n",
      "P(X = 8) = 0.0110\n",
      "P(X = 9) = 0.0005\n",
      "P(X = 10) = 0.0000\n",
      "\n",
      "=== b) P(todas las 5 mejores en la misma dirección) ===\n",
      "P(X = 5) = 0.0163\n",
      "P(X = 0) = 0.0163\n",
      "P(todas en misma dirección) = 0.0325\n",
      "\n",
      "=== c) Generalización: X ~ H(2n, n, n) ===\n",
      "Distribución hipergeométrica: H(N=20, K=10, n=10)\n",
      "P(X = 0) = 0.0000\n",
      "P(X = 1) = 0.0005\n",
      "P(X = 2) = 0.0110\n",
      "P(X = 3) = 0.0779\n",
      "P(X = 4) = 0.2387\n",
      "P(X = 5) = 0.3437\n",
      "P(X = 6) = 0.2387\n",
      "P(X = 7) = 0.0779\n",
      "P(X = 8) = 0.0110\n",
      "P(X = 9) = 0.0005\n",
      "P(X = 10) = 0.0000\n",
      "E[X] = 5.0000\n",
      "V[X] = 1.3158\n"
     ]
    },
    {
     "data": {
      "image/png": "[encoded data removed]",
      "text/plain": [
       "<Figure size 640x480 with 1 Axes>"
      ]
     },
     "metadata": {},
     "output_type": "display_data"
    }
   ],
   "source": [
    "import math\n",
    "import matplotlib.pyplot as plt\n",
    "\n",
    "def comb(n, k):\n",
    "    return math.comb(n, k)\n",
    "\n",
    "# Parte A: P(X = x) para N = 20, K = 10, n = 10\n",
    "def prob_hipergeometrica(N, K, n, x):\n",
    "    return comb(K, x) * comb(N - K, n - x) / comb(N, n)\n",
    "\n",
    "print(\"=== a) P(X = x) para x = 0 a 10 ===\")\n",
    "N = 20      # Total de parejas\n",
    "K = 10      # Mejores parejas\n",
    "n = 10      # Selección para este-oeste\n",
    "\n",
    "probs = []\n",
    "xs = range(0, K + 1)\n",
    "for x in xs:\n",
    "    if 0 <= x <= n:\n",
    "        p = prob_hipergeometrica(N, K, n, x)\n",
    "        probs.append(p)\n",
    "        print(f\"P(X = {x}) = {p:.4f}\")\n",
    "\n",
    "# Parte B: P(las 5 mejores estén todas en una dirección)\n",
    "print(\"\\n=== b) P(todas las 5 mejores en la misma dirección) ===\")\n",
    "p_todas_5 = prob_hipergeometrica(20, 5, 10, 5)\n",
    "p_todas_0 = prob_hipergeometrica(20, 5, 10, 0)\n",
    "p_total = p_todas_5 + p_todas_0\n",
    "print(f\"P(X = 5) = {p_todas_5:.4f}\")\n",
    "print(f\"P(X = 0) = {p_todas_0:.4f}\")\n",
    "print(f\"P(todas en misma dirección) = {p_total:.4f}\")\n",
    "\n",
    "# Parte C: función de masa para cualquier n\n",
    "print(\"\\n=== c) Generalización: X ~ H(2n, n, n) ===\")\n",
    "def fmp_general(n):\n",
    "    N = 2 * n\n",
    "    K = n\n",
    "    print(f\"Distribución hipergeométrica: H(N={N}, K={K}, n={n})\")\n",
    "    for x in range(n + 1):\n",
    "        p = prob_hipergeometrica(N, K, n, x)\n",
    "        print(f\"P(X = {x}) = {p:.4f}\")\n",
    "    esperanza = n / 2\n",
    "    varianza = (n / 4) * (n / (2 * n - 1))\n",
    "    print(f\"E[X] = {esperanza:.4f}\")\n",
    "    print(f\"V[X] = {varianza:.4f}\")\n",
    "\n",
    "# Llama con n = 10 (como en el ejemplo)\n",
    "fmp_general(10)\n",
    "\n",
    "# Gráfica de P(X = x)\n",
    "plt.bar(xs, probs, color='skyblue', edgecolor='black')\n",
    "plt.title(\"Distribución Hipergeométrica (N=20, K=10, n=10)\")\n",
    "plt.xlabel(\"Número de mejores parejas en este-oeste (x)\")\n",
    "plt.ylabel(\"P(X = x)\")\n",
    "plt.grid(axis='y', linestyle='--', alpha=0.6)\n",
    "plt.xticks(xs)\n",
    "plt.tight_layout()\n",
    "plt.show()"
   ]
  },
  {
   "cell_type": "markdown",
   "id": "dad0fa40",
   "metadata": {},
   "source": [
    "## Ejemplo.8\n",
    "\n",
    "### [Anterior](#Ejemplo.7) | [Menú](#Menu) | [Siguiente](#Ejemplo.9)\n",
    "\n",
    "Un geólogo recolectó 10 especímenes de roca basáltica y 10 especímenes de granito. Él le pide a su ayudante de laboratorio que seleccione al azar 15 de los especímenes para ana\n",
    "lizarlos.\n",
    "\n",
    "a. ¿Cuál es la función masa de probabilidad del número de especímenes de granito seleccionados para su análisis?\n",
    "b. ¿Cuál es la probabilidad de que todos los especímenes de uno de los dos tipos de roca sean seleccionados para su análisis? \n",
    "c. ¿Cuál es la probabilidad de que el número de especímenes de granito seleccionados para analizarlos esté dentro de una desviación estándar de su valor medio?"
   ]
  },
  {
   "cell_type": "code",
   "execution_count": 18,
   "id": "05f1c0b1",
   "metadata": {},
   "outputs": [
    {
     "data": {
      "image/png": "[encoded data removed]",
      "text/plain": [
       "<Figure size 640x480 with 1 Axes>"
      ]
     },
     "metadata": {},
     "output_type": "display_data"
    }
   ],
   "source": [
    "import numpy as np\n",
    "import matplotlib.pyplot as plt\n",
    "import scipy.stats as stats\n",
    "\n",
    "# Datos del problema\n",
    "N = 20  # Total de especímenes (10 de roca basáltica + 10 de granito)\n",
    "K = 10   # Especímenes de granito\n",
    "n = 15   # Especímenes seleccionados\n",
    "\n",
    "# a) Función masa de probabilidad del número de especímenes de granito seleccionados\n",
    "k_values = np.arange(0, min(n, K) + 1)  # Valores posibles de especímenes de granito seleccionados\n",
    "pmf_values = stats.hypergeom.pmf(k_values, N, K, n)\n",
    "\n",
    "# Visualización de la función masa de probabilidad\n",
    "plt.bar(k_values, pmf_values, color='skyblue')\n",
    "plt.title('Función Masa de Probabilidad - Especímenes de Granito')\n",
    "plt.xlabel('Número de Especímenes de Granito Seleccionados')\n",
    "plt.ylabel('Probabilidad')\n",
    "plt.xticks(k_values)\n",
    "plt.grid(axis='y')\n",
    "plt.show()"
   ]
  },
  {
   "cell_type": "markdown",
   "id": "ae96826e",
   "metadata": {},
   "source": [
    "## Ejemplo.9\n",
    "\n",
    "### [Anterior](#Ejemplo.8) | [Menú](#Menu)\n",
    "\n",
    "Una alerta contra el esmog de segunda etapa ha sido emiti\n",
    "da en una área del condado de Los Ángeles en la cual hay 50\n",
    " firmas industriales. Un inspector visitará 10 firmas seleccio\n",
    "nadas al azar para ver si no han violado los reglamentos.\n",
    "\n",
    " a. Si 15 de las firmas sí están violando por lo menos un re\n",
    "glamento, ¿cuál es la función masa de probabilidad del\n",
    " número de firmas visitadas por el inspector que violan\n",
    " por lo menos un reglamento?\n",
    " \n",
    " b. Si existen 500 firmas en el área, 150 de las cuales violan\n",
    " algún reglamento, represente de forma aproximada la\n",
    " función masa de probabilidad del inciso a) con una fun\n",
    "ción masa de probabilidad más simple. \n",
    "\n",
    "c. Con X el número entre las 10 visitadas que violan al\n",
    "gún reglamento, calcule E(X) y V(X) ambas para la fun\n",
    "ción masa de probabilidad exacta y función masa de\n",
    " probabilidad aproximada del inciso b)"
   ]
  },
  {
   "cell_type": "code",
   "execution_count": 19,
   "id": "0ea491df",
   "metadata": {},
   "outputs": [
    {
     "data": {
      "image/png": "[encoded data removed]",
      "text/plain": [
       "<Figure size 640x480 with 1 Axes>"
      ]
     },
     "metadata": {},
     "output_type": "display_data"
    },
    {
     "name": "stdout",
     "output_type": "stream",
     "text": [
      "b) Probabilidad de que al menos una firma viole el reglamento: 0.9851992254803807\n",
      "c) Esperanza (E[X]): 3.3333333333333335\n",
      "c) Varianza (V[X]): 2.087994034302759\n"
     ]
    }
   ],
   "source": [
    "import numpy as np\n",
    "import matplotlib.pyplot as plt\n",
    "import scipy.stats as stats\n",
    "\n",
    "# Datos del problema\n",
    "N = 150  # Total de firmas\n",
    "K = 50   # Firmas que violan algún reglamento\n",
    "n = 10   # Firmas seleccionadas\n",
    "\n",
    "# a) Función masa de probabilidad del número de firmas que violan reglamento\n",
    "k_values = np.arange(0, min(n, K) + 1)  # Valores posibles de firmas que violan reglamento\n",
    "pmf_values = stats.hypergeom.pmf(k_values, N, K, n)\n",
    "\n",
    "# Visualización de la función masa de probabilidad\n",
    "plt.bar(k_values, pmf_values, color='lightcoral')\n",
    "plt.title('Función Masa de Probabilidad - Firmas que Violan Reglamento')\n",
    "plt.xlabel('Número de Firmas que Violan Reglamento')\n",
    "plt.ylabel('Probabilidad')\n",
    "plt.xticks(k_values)\n",
    "plt.grid(axis='y')\n",
    "plt.show()\n",
    "\n",
    "# b) Aproximación de la función masa de probabilidad de que al menos una firma viole el reglamento\n",
    "probabilidad_al_menos_una = 1 - stats.hypergeom.pmf(0, N, K, n)\n",
    "print(\"b) Probabilidad de que al menos una firma viole el reglamento:\", probabilidad_al_menos_una)\n",
    "\n",
    "# c) Esperanza y varianza del número de firmas que violan reglamento\n",
    "# Esperanza (valor medio)\n",
    "esperanza = (n * K) / N\n",
    "# Varianza\n",
    "varianza = (n * K * (N - K) * (N - n)) / (N**2 * (N - 1))\n",
    "\n",
    "print(\"c) Esperanza (E[X]):\", esperanza)\n",
    "print(\"c) Varianza (V[X]):\", varianza)"
   ]
  },
  {
   "cell_type": "markdown",
   "id": "14698987",
   "metadata": {},
   "source": [
    "### Referencia: \n",
    "- Ronald E. Walpole, Raymond H. Myers, Sharon L. Myers. (2012), *Probabilidad y estadística para ingeniería y ciencias\n",
    "Novena edición*, PEARSON Educación de México, S.A. de C.V.[Enlace](https://bibliotecavirtualaserena.wordpress.com/wp-content/uploads/2017/05/libro_probabilidad-y-estadistica-para-ingenerc3ada-y-ciencias-ronald-e-walpole-mayers.pdf)\n",
    "\n",
    "-  Jay L. Devore, A. (2008). *Probabilidad y Estadística\n",
    "para Ingeniería y Ciencias Septima edición*. California Polytechnic State University, San Luis Obispo\n",
    ". [Enlace](https://santic.cl/mt-content/uploads/2023/06/estadistica-devore.pdf)"
   ]
  },
  {
   "cell_type": "markdown",
   "id": "f5f6f077",
   "metadata": {},
   "source": []
  }
 ],
 "metadata": {
  "kernelspec": {
   "display_name": "Python 3",
   "language": "python",
   "name": "python3"
  },
  "language_info": {
   "codemirror_mode": {
    "name": "ipython",
    "version": 3
   },
   "file_extension": ".py",
   "mimetype": "text/x-python",
   "name": "python",
   "nbconvert_exporter": "python",
   "pygments_lexer": "ipython3",
   "version": "3.13.4"
  }
 },
 "nbformat": 4,
 "nbformat_minor": 5
}
