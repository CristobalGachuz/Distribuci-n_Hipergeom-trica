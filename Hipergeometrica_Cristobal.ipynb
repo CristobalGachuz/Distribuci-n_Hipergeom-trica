{
 "cells": [
  {
   "cell_type": "markdown",
   "id": "11b1c24e",
   "metadata": {},
   "source": [
    "# [Menu](#Menú)\n",
    "\n",
    "* [Ejemplo 1](#Ejemplo.1)\n",
    "* [Ejemplo 2](#Ejemplo.2)\n",
    "* [Ejemplo 3](#Ejemplo.3)\n",
    "* [Ejemplo 4](#Ejemplo.4)\n",
    "* [Ejemplo 5](#Ejemplo.5)\n",
    "* [Ejemplo 6](#Ejemplo.6)\n",
    "* [Ejemplo 7](#Ejemplo.7)\n",
    "* [Ejemplo 8](#Ejemplo.8)\n",
    "* [Ejemplo 9](#Ejemplo.9)"
   ]
  },
  {
   "cell_type": "markdown",
   "id": "0ae2509f",
   "metadata": {},
   "source": [
    "## Problemas de Distribucion Hipergeometrica"
   ]
  },
  {
   "cell_type": "markdown",
   "id": "8ac97691",
   "metadata": {},
   "source": [
    "La distribución hipergeométrica es un concepto fundamental en la teoría de la probabilidad y la estadística. Se utiliza para modelar el número de éxitos en una muestra de tamaño fijo, extraída sin reemplazo de una población finita. En otras palabras, describe la probabilidad de obtener un cierto número de elementos de un tipo específico (éxitos) al seleccionar un número determinado de elementos de un grupo más grande, donde la selección se realiza sin devolver los elementos seleccionados a la población original. "
   ]
  },
  {
   "cell_type": "markdown",
   "id": "c623b98b",
   "metadata": {},
   "source": [
    "### Formula\n",
    "\n",
    "$$\n",
    "h(x) = \\frac{(A/x)(N-A/n-x)}{ {(N/n)}} \n",
    "$$"
   ]
  },
  {
   "cell_type": "markdown",
   "id": "413d9f25",
   "metadata": {},
   "source": [
    "### Ejemplo.1 \n",
    "### [Menú](#Menu) | [Siguiente](#Ejemplo.2)\n",
    "\n",
    "Un plato de caramelos contiene 30 gominolas y 20 pastillas de goma. Se eligen diez caramelos al azar. ¿Cuál es la probabilidad de que 5 de los 10 sean pastillas de goma? Los dos grupos son gominolas y pastillas de goma."
   ]
  },
  {
   "cell_type": "code",
   "execution_count": 11,
   "id": "b806e689",
   "metadata": {},
   "outputs": [
    {
     "name": "stdout",
     "output_type": "stream",
     "text": [
      "La probabilidad de que 4 de las 7 fichas sean vocales es: 0.2351\n"
     ]
    },
    {
     "data": {
      "image/png": "[encoded data removed]",
      "text/plain": [
       "<Figure size 640x480 with 1 Axes>"
      ]
     },
     "metadata": {},
     "output_type": "display_data"
    }
   ],
   "source": [
    "import scipy.stats as stats\n",
    "import matplotlib.pyplot as plt\n",
    "import numpy as np\n",
    "\n",
    "# Datos del problema\n",
    "vocales = 44\n",
    "consonantes = 56\n",
    "total_fichas = vocales + consonantes\n",
    "nueva_muestra = 7\n",
    "k_vocales = 4\n",
    "\n",
    "# Calcular la probabilidad utilizando la distribución hipergeométrica\n",
    "probabilidad = stats.hypergeom.pmf(k_vocales, total_fichas, vocales, nueva_muestra)\n",
    "\n",
    "# Imprimir la probabilidad\n",
    "print(f\"La probabilidad de que 4 de las 7 fichas sean vocales es: {probabilidad:.4f}\")\n",
    "\n",
    "# Visualización\n",
    "x = np.arange(0, nueva_muestra + 1)\n",
    "pmf_values = stats.hypergeom.pmf(x, total_fichas, vocales, nueva_muestra)\n",
    "\n",
    "plt.bar(x, pmf_values)\n",
    "plt.title('Distribución Hipergeométrica')\n",
    "plt.xlabel('Número de Vocales Elegidas')\n",
    "plt.ylabel('Probabilidad')\n",
    "plt.xticks(x)\n",
    "plt.axvline(k_vocales, color='red', linestyle='--', label='k=4 (Vocales)')\n",
    "plt.legend()\n",
    "plt.show()"
   ]
  },
  {
   "cell_type": "markdown",
   "id": "d0c19c2a",
   "metadata": {},
   "source": [
    "## Ejemplo.2\n",
    "### [Anterior](#Ejemplo.1) | [Menú](#Menu) | [Siguiente](#Ejemplo.3)\n",
    "\n",
    "Una bolsa contiene fichas de letras. Cuarenta y cuatro de las fichas son vocales y 56 son consonantes. Se eligen siete fichas al azar. Quiere saber la probabilidad de que cuatro de las siete fichas sean vocales. ¿Cuál es el grupo de interés, el tamaño del grupo de interés y el tamaño de la muestra?"
   ]
  },
  {
   "cell_type": "code",
   "execution_count": 5,
   "id": "c291b833",
   "metadata": {},
   "outputs": [
    {
     "name": "stdout",
     "output_type": "stream",
     "text": [
      "La probabilidad de que 5 de los 10 caramelos sean pastillas de goma es: 0.2151\n"
     ]
    }
   ],
   "source": [
    "import scipy.stats as stats\n",
    "import numpy as np\n",
    "\n",
    "# Datos del problema\n",
    "pastillas = 20\n",
    "gominolas = 30\n",
    "total_caramelos = pastillas + gominolas\n",
    "nueva_muestra = 10\n",
    "k_pastillas = 5\n",
    "\n",
    "# Calcular la probabilidad utilizando la distribución hipergeométrica\n",
    "probabilidad = stats.hypergeom.pmf(k_pastillas, total_caramelos, pastillas, nueva_muestra)\n",
    "\n",
    "# Imprimir la probabilidad\n",
    "print(f\"La probabilidad de que 5 de los 10 caramelos sean pastillas de goma es: {probabilidad:.4f}\")"
   ]
  },
  {
   "cell_type": "markdown",
   "id": "2d234708",
   "metadata": {},
   "source": [
    "## Ejemplo.3\n",
    "\n",
    "### [Anterior](#Ejemplo.2) | [Menú](#Menu) | [Siguiente](#Ejemplo.4)\n",
    "Para resolver este problema, utilizaremos la distribución hipergeométrica. La probabilidad de extraer 3 machos y 2 hembras de un total de 10 peces (6 machos y 4 hembras) se puede calcular con la siguiente fórmula de la distribución hipergeométrica:"
   ]
  },
  {
   "cell_type": "code",
   "execution_count": 12,
   "id": "ebdc038f",
   "metadata": {},
   "outputs": [
    {
     "name": "stdout",
     "output_type": "stream",
     "text": [
      "La probabilidad de extraer 3 machos y 2 hembras es: 0.4762\n"
     ]
    }
   ],
   "source": [
    "import scipy.stats as stats\n",
    "\n",
    "# Parámetros\n",
    "N = 10  # Total de peces\n",
    "K = 6   # Total de machos\n",
    "n = 5   # Peces extraídos\n",
    "k = 3   # Machos que queremos extraer\n",
    "\n",
    "# Calcular la probabilidad utilizando la distribución hipergeométrica\n",
    "probabilidad = stats.hypergeom.pmf(k, N, K, n)\n",
    "\n",
    "# Imprimir la probabilidad\n",
    "print(f\"La probabilidad de extraer 3 machos y 2 hembras es: {probabilidad:.4f}\")"
   ]
  },
  {
   "cell_type": "markdown",
   "id": "e61cbbfa",
   "metadata": {},
   "source": [
    "## Ejemplo.4\n",
    "\n",
    "### [Anterior](#Ejemplo.3) | [Menú](#Menu) | [Siguiente](#Ejemplo.5)\n",
    "Supongamos la extracción aleatoria de 8 elementos de un conjunto formado por 40 elementos totales (cartas baraja española) de los cuales 10 son del tipo A (salir oro) y 30 son del tipo complementario (no salir oro).\n",
    "Si realizamos las extracciones sin devolver los elementos extraídos y llamamos X al número de elementos del tipo A (oros obtenidos) que extraemos en las 8 cartas; X seguirá una distribución hipergeométrica de parámetros 40 , 8 , 10/40.H(40,8,0,25).\n",
    "Para calcular la probabilidad de obtener 4 oros:\n",
    "\n"
   ]
  },
  {
   "cell_type": "code",
   "execution_count": 1,
   "id": "5209e9d4",
   "metadata": {},
   "outputs": [
    {
     "name": "stdout",
     "output_type": "stream",
     "text": [
      "La probabilidad de obtener exactamente 4 oros al sacar 8 cartas es: 0.0748 o 7.48%\n"
     ]
    }
   ],
   "source": [
    "import math\n",
    "\n",
    "def combinacion(n, r):\n",
    "    return math.comb(n, r)\n",
    "\n",
    "# Datos del problema\n",
    "N = 40       # Total de cartas\n",
    "K = 10       # Oros\n",
    "n = 8        # Cartas extraídas\n",
    "k = 4        # Oros deseados\n",
    "\n",
    "# Cálculo hipergeométrico\n",
    "numerador = combinacion(K, k) * combinacion(N - K, n - k)\n",
    "denominador = combinacion(N, n)\n",
    "probabilidad = numerador / denominador\n",
    "\n",
    "print(f\"La probabilidad de obtener exactamente 4 oros al sacar 8 cartas es: {probabilidad:.4f} o {probabilidad*100:.2f}%\")"
   ]
  },
  {
   "cell_type": "markdown",
   "id": "ae60ea0d",
   "metadata": {},
   "source": [
    "## Ejemplo.5\n",
    "\n",
    "### [Anterior](#Ejemplo.4) | [Menú](#Menu) | [Siguiente](#Ejemplo.6)\n",
    "\n",
    "Para evitar que lo descubran en la aduana, un viajero ha colocado 6 tabletas de narcótico en una botella que contiene 9 píldoras de vitamina que son similares en apariencia. Si el oficial de la aduana selecciona 3 tabletas aleatoriamente para analizarlas,\n",
    "a. ¿Cuál es la probabilidad de que el viajero sea arrestado por posesión de narcóticos?"
   ]
  },
  {
   "cell_type": "code",
   "execution_count": 4,
   "id": "3f48b8f2",
   "metadata": {},
   "outputs": [
    {
     "name": "stdout",
     "output_type": "stream",
     "text": [
      "La probabilidad de que el viajero sea arrestado es: 0.8154 o 81.54%\n"
     ]
    }
   ],
   "source": [
    "import math\n",
    "\n",
    "def combinacion(n, r):\n",
    "    return math.comb(n, r)\n",
    "\n",
    "# Datos\n",
    "total = 15          # N = 6 narcóticos + 9 vitaminas\n",
    "narcoticos = 6      # K\n",
    "vitaminas = 9\n",
    "muestra = 3         # n\n",
    "\n",
    "# P(ningún narcótico) = todas las pastillas seleccionadas son vitaminas\n",
    "p_cero_narcotico = combinacion(vitaminas, muestra) / combinacion(total, muestra)\n",
    "\n",
    "# P(al menos un\n",
    "import math\n",
    "\n",
    "def combinacion(n, r):\n",
    "    return math.comb(n, r)\n",
    "\n",
    "# Datos\n",
    "total = 15          # N = 6 narcóticos + 9 vitaminas\n",
    "narcoticos = 6      # K\n",
    "vitaminas = 9\n",
    "muestra = 3         # n\n",
    "\n",
    "# P(ningún narcótico) = todas las pastillas seleccionadas son vitaminas\n",
    "p_cero_narcotico = combinacion(vitaminas, muestra) / combinacion(total, muestra)\n",
    "\n",
    "# P(al menos un narcótico) = 1 - P(ninguno)\n",
    "p_arresto = 1 - p_cero_narcotico\n",
    "\n",
    "print(f\"La probabilidad de que el viajero sea arrestado es: {p_arresto:.4f} o {p_arresto*100:.2f}%\")"
   ]
  },
  {
   "cell_type": "markdown",
   "id": "e5be9193",
   "metadata": {},
   "source": [
    "## Ejemplo.6\n",
    "\n",
    "### [Anterior](#Ejemplo.5) | [Menú](#Menu) | [Siguiente](#Ejemplo.7)\n",
    "\n",
    "Una tienda de artículos eléctricos tiene 20 planchas, de las cuales 5\n",
    "son amarillas. Si se extraen aleatoriamente y sin sustitución 10 planchas ¿Cuál es la probabilidad de que dos de ellas sean amarillas?"
   ]
  },
  {
   "cell_type": "code",
   "execution_count": 5,
   "id": "b1c19eed",
   "metadata": {},
   "outputs": [
    {
     "name": "stdout",
     "output_type": "stream",
     "text": [
      "La probabilidad de obtener exactamente 2 planchas amarillas es: 0.3483 o 34.83%\n"
     ]
    }
   ],
   "source": [
    "import math\n",
    "\n",
    "def combinacion(n, r):\n",
    "    return math.comb(n, r)\n",
    "\n",
    "# Datos\n",
    "N = 20      # Total de planchas\n",
    "K = 5       # Amarillas\n",
    "n = 10      # Se seleccionan\n",
    "k = 2       # Queremos 2 amarillas\n",
    "\n",
    "# Cálculo de probabilidad hipergeométrica\n",
    "numerador = combinacion(K, k) * combinacion(N - K, n - k)\n",
    "denominador = combinacion(N, n)\n",
    "probabilidad = numerador / denominador\n",
    "\n",
    "print(f\"La probabilidad de obtener exactamente 2 planchas amarillas es: {probabilidad:.4f} o {probabilidad*100:.2f}%\")"
   ]
  },
  {
   "cell_type": "markdown",
   "id": "dadc0de2",
   "metadata": {},
   "source": [
    "## Ejemplo.7\n",
    "\n",
    "### [Anterior](#Ejemplo.6) | [Menú](#Menu) | [Siguiente](#Ejemplo.8)\n",
    "\n",
    "Control de Calidad. En una producción de 1000 artículos, 150 son defectuosos. Si se seleccionan al azar 20 artículos, responde:\n",
    "\n",
    "a) ¿Cuántos artículos defectuosos esperas encontrar en la muestra?\n",
    "\n",
    "b) ¿Cuál es la probabilidad de que exactamente 5 de los artículos seleccionados sean defectuosos?\n",
    "\n",
    "c) ¿Cuál es la probabilidad de que al menos 3 artículos sean defectuosos?"
   ]
  },
  {
   "cell_type": "code",
   "execution_count": 6,
   "id": "093b674a",
   "metadata": {},
   "outputs": [
    {
     "name": "stdout",
     "output_type": "stream",
     "text": [
      "a) Artículos defectuosos esperados en la muestra: 3.0\n",
      "b) Probabilidad de que exactamente 5 sean defectuosos: 0.102810825509781\n",
      "c) Probabilidad de que al menos 3 sean defectuosos: 0.5971907564437862\n"
     ]
    }
   ],
   "source": [
    "import scipy.stats as stats\n",
    "\n",
    "# Datos del problema\n",
    "N = 1000  # Total de artículos\n",
    "K = 150   # Artículos defectuosos\n",
    "n = 20    # Artículos seleccionados\n",
    "\n",
    "# a) ¿Cuántos artículos defectuosos esperas encontrar en la muestra?\n",
    "esperados = (n * K) / N\n",
    "print(\"a) Artículos defectuosos esperados en la muestra:\", esperados)\n",
    "\n",
    "# b) ¿Cuál es la probabilidad de que exactamente 5 de los artículos seleccionados sean defectuosos?\n",
    "k = 5  # Número de defectuosos en la muestra\n",
    "probabilidad_exacta = stats.hypergeom.pmf(k, N, K, n)\n",
    "print(\"b) Probabilidad de que exactamente 5 sean defectuosos:\", probabilidad_exacta)\n",
    "\n",
    "# c) ¿Cuál es la probabilidad de que al menos 3 artículos sean defectuosos?\n",
    "probabilidad_al_menos_3 = sum(stats.hypergeom.pmf(range(3, n + 1), N, K, n))\n",
    "print(\"c) Probabilidad de que al menos 3 sean defectuosos:\", probabilidad_al_menos_3)"
   ]
  },
  {
   "cell_type": "markdown",
   "id": "dad0fa40",
   "metadata": {},
   "source": [
    "## Ejemplo.8\n",
    "\n",
    "### [Anterior](#Ejemplo.7) | [Menú](#Menu) | [Siguiente](#Ejemplo.9)\n",
    "\n",
    "Muestreo de Componentes. En un lote de 50 componentes, 12 son defectuosos. Si se eligen 10 componentes al azar, considera lo siguiente:\n",
    "\n",
    "a) ¿Cuántos componentes defectuosos esperas encontrar en la muestra?\n",
    "\n",
    "b) ¿Cuál es la probabilidad de que exactamente 4 de los componentes seleccionados sean defectuosos?\n",
    "\n",
    "c) ¿Cuál es la probabilidad de que no más de 2 componentes sean defectuosos?"
   ]
  },
  {
   "cell_type": "code",
   "execution_count": 9,
   "id": "05f1c0b1",
   "metadata": {},
   "outputs": [
    {
     "name": "stdout",
     "output_type": "stream",
     "text": [
      "a) Componentes defectuosos esperados en la muestra: 2.4\n",
      "b) Probabilidad de que exactamente 4 sean defectuosos: 0.13303155078013235\n",
      "c) Probabilidad de que no más de 2 componentes sean defectuosos: 0.5506571973994742\n"
     ]
    }
   ],
   "source": [
    "import scipy.stats as stats\n",
    "\n",
    "# Datos del problema\n",
    "N = 50   # Total de componentes\n",
    "K = 12   # Componentes defectuosos\n",
    "n = 10   # Componentes seleccionados\n",
    "\n",
    "# a) ¿Cuántos componentes defectuosos esperas encontrar en la muestra?\n",
    "esperados = (n * K) / N\n",
    "print(\"a) Componentes defectuosos esperados en la muestra:\", esperados)\n",
    "\n",
    "# b) ¿Cuál es la probabilidad de que exactamente 4 de los componentes seleccionados sean defectuosos?\n",
    "k = 4  # Número de defectuosos en la muestra\n",
    "probabilidad_exacta = stats.hypergeom.pmf(k, N, K, n)\n",
    "print(\"b) Probabilidad de que exactamente 4 sean defectuosos:\", probabilidad_exacta)\n",
    "\n",
    "# c) ¿Cuál es la probabilidad de que no más de 2 componentes sean defectuosos?\n",
    "probabilidad_no_mas_2 = sum(stats.hypergeom.pmf(range(0, 3), N, K, n))\n",
    "print(\"c) Probabilidad de que no más de 2 componentes sean defectuosos:\", probabilidad_no_mas_2)\n"
   ]
  },
  {
   "cell_type": "markdown",
   "id": "ae96826e",
   "metadata": {},
   "source": [
    "## Ejemplo.9\n",
    "\n",
    "### [Anterior](#Ejemplo.8) | [Menú](#Menu)\n",
    "\n",
    "Análisis de Componentes. En un estudio de fiabilidad, hay 40 componentes, de los cuales 5 son defectuosos. Si seleccionas 20 componentes al azar, considera:\n",
    "\n",
    "a) ¿Cuántos componentes defectuosos esperas encontrar en la muestra?\n",
    "\n",
    "b) ¿Cuál es la probabilidad de que no haya más de 3 defectuosos en la selección?\n",
    "\n",
    "c) ¿Cuál es la probabilidad de que exactamente 2 sean defectuosos?"
   ]
  },
  {
   "cell_type": "code",
   "execution_count": 10,
   "id": "0ea491df",
   "metadata": {},
   "outputs": [
    {
     "name": "stdout",
     "output_type": "stream",
     "text": [
      "a) Componentes defectuosos esperados en la muestra: 2.5\n",
      "b) Probabilidad de que no haya más de 3 defectuosos: 0.8291753291753292\n",
      "c) Probabilidad de que exactamente 2 sean defectuosos: 0.3291753291753292\n"
     ]
    }
   ],
   "source": [
    "import scipy.stats as stats\n",
    "\n",
    "# Datos del problema\n",
    "N = 40   # Total de componentes\n",
    "K = 5    # Componentes defectuosos\n",
    "n = 20   # Componentes seleccionados\n",
    "\n",
    "# a) ¿Cuántos componentes defectuosos esperas encontrar en la muestra?\n",
    "esperados = (n * K) / N\n",
    "print(\"a) Componentes defectuosos esperados en la muestra:\", esperados)\n",
    "\n",
    "# b) ¿Cuál es la probabilidad de que no haya más de 3 defectuosos en la selección?\n",
    "probabilidad_no_mas_3 = sum(stats.hypergeom.pmf(range(0, 4), N, K, n))\n",
    "print(\"b) Probabilidad de que no haya más de 3 defectuosos:\", probabilidad_no_mas_3)\n",
    "\n",
    "# c) ¿Cuál es la probabilidad de que exactamente 2 sean defectuosos?\n",
    "k = 2  # Número de defectuosos en la muestra\n",
    "probabilidad_exacta = stats.hypergeom.pmf(k, N, K, n)\n",
    "print(\"c) Probabilidad de que exactamente 2 sean defectuosos:\", probabilidad_exacta)"
   ]
  },
  {
   "cell_type": "markdown",
   "id": "14698987",
   "metadata": {},
   "source": [
    "### Referencia: \n",
    "##### Ejemplo 1,2,3: \n",
    "- https://openstax.org/books/introducci%C3%B3n-estad%C3%ADstica/pages/4-5-distribucion-hipergeometrica\n",
    "- https://estadistica-dma.ulpgc.es/estadFCM/-pdf/Tema%203_%20Distribuciones%20de%20Probabilidad%20Notables.pdf (pag 15)\n",
    "##### Ejemplo 4,5,6:\n",
    "- https://www.slideshare.net/slideshow/ejercicios-de-distribucin-hipergeometrica/53762384\n",
    "##### Ejemplo 7,8,9:\n",
    "- https://github.com/muditbac/Reading/blob/master/math/Morris%20H%20DeGroot_%20Mark%20J%20Schervish-Probability%20and%20statistics-Pearson%20Education%20%20(2012).pdf (pag 281)"
   ]
  },
  {
   "cell_type": "markdown",
   "id": "f5f6f077",
   "metadata": {},
   "source": []
  }
 ],
 "metadata": {
  "kernelspec": {
   "display_name": "Python 3",
   "language": "python",
   "name": "python3"
  },
  "language_info": {
   "codemirror_mode": {
    "name": "ipython",
    "version": 3
   },
   "file_extension": ".py",
   "mimetype": "text/x-python",
   "name": "python",
   "nbconvert_exporter": "python",
   "pygments_lexer": "ipython3",
   "version": "3.13.4"
  }
 },
 "nbformat": 4,
 "nbformat_minor": 5
}
