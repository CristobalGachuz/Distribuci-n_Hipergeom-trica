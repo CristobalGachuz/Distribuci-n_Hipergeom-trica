{
 "cells": [
  {
   "cell_type": "markdown",
   "id": "ebadaf52",
   "metadata": {},
   "source": [
    "<h2>Índice de Ejercicios</h2>\n",
    "\n",
    "<ul>\n",
    "    <li><a href=\"#ejercicio1\">Ejercicio 1</a></li>\n",
    "    <li><a href=\"#ejercicio2\">Ejercicio 2</a></li>\n",
    "    <li><a href=\"#ejercicio3\">Ejercicio 3</a></li>\n",
    "</ul>"
   ]
  },
  {
   "cell_type": "markdown",
   "id": "4645ae6e",
   "metadata": {},
   "source": [
    "<a id=\"ejercicio1\"></a>\n",
    "<h3>Ejercicio 1</h3>"
   ]
  },
  {
   "cell_type": "markdown",
   "id": "62fc1986",
   "metadata": {},
   "source": [
    "poe me podrias resolver este ejercicio:Ejercicio 1: Control de Calidad\n",
    "Control de Calidad. En una producción de 1000 artículos, 150 son defectuosos. Si se seleccionan al azar 20 artículos, responde:\n",
    "\n",
    "a) ¿Cuántos artículos defectuosos esperas encontrar en la muestra?\n",
    "\n",
    "b) ¿Cuál es la probabilidad de que exactamente 5 de los artículos seleccionados sean defectuosos?\n",
    "\n",
    "c) ¿Cuál es la probabilidad de que al menos 3 artículos sean defectuosos?"
   ]
  },
  {
   "cell_type": "code",
   "execution_count": 1,
   "id": "70204924",
   "metadata": {},
   "outputs": [
    {
     "name": "stdout",
     "output_type": "stream",
     "text": [
      "a) Artículos defectuosos esperados en la muestra: 3.0\n",
      "b) Probabilidad de que exactamente 5 sean defectuosos: 0.102810825509781\n",
      "c) Probabilidad de que al menos 3 sean defectuosos: 0.5971907564437862\n"
     ]
    }
   ],
   "source": [
    "import scipy.stats as stats\n",
    "\n",
    "# Datos del problema\n",
    "N = 1000  # Total de artículos\n",
    "K = 150   # Artículos defectuosos\n",
    "n = 20    # Artículos seleccionados\n",
    "\n",
    "# a) ¿Cuántos artículos defectuosos esperas encontrar en la muestra?\n",
    "esperados = (n * K) / N\n",
    "print(\"a) Artículos defectuosos esperados en la muestra:\", esperados)\n",
    "\n",
    "# b) ¿Cuál es la probabilidad de que exactamente 5 de los artículos seleccionados sean defectuosos?\n",
    "k = 5  # Número de defectuosos en la muestra\n",
    "probabilidad_exacta = stats.hypergeom.pmf(k, N, K, n)\n",
    "print(\"b) Probabilidad de que exactamente 5 sean defectuosos:\", probabilidad_exacta)\n",
    "\n",
    "# c) ¿Cuál es la probabilidad de que al menos 3 artículos sean defectuosos?\n",
    "probabilidad_al_menos_3 = sum(stats.hypergeom.pmf(range(3, n + 1), N, K, n))\n",
    "print(\"c) Probabilidad de que al menos 3 sean defectuosos:\", probabilidad_al_menos_3)"
   ]
  },
  {
   "cell_type": "markdown",
   "id": "bafe35d4",
   "metadata": {},
   "source": [
    "<div style=\"display: flex; justify-content: space-between; margin: 20px 0;\">\n",
    "    <a href=\"#ejercicio2\">Siguiente →</a>\n",
    "</div>"
   ]
  },
  {
   "cell_type": "markdown",
   "id": "2f146f07",
   "metadata": {},
   "source": [
    "<a id=\"ejercicio2\"></a>\n",
    "<h3>Ejercicio 2</h3>"
   ]
  },
  {
   "cell_type": "markdown",
   "id": "51a7ea52",
   "metadata": {},
   "source": [
    "Muestreo de Componentes. En un lote de 50 componentes, 12 son defectuosos. Si se eligen 10 componentes al azar, considera lo siguiente:\n",
    "\n",
    "a) ¿Cuántos componentes defectuosos esperas encontrar en la muestra?\n",
    "\n",
    "b) ¿Cuál es la probabilidad de que exactamente 4 de los componentes seleccionados sean defectuosos?\n",
    "\n",
    "c) ¿Cuál es la probabilidad de que no más de 2 componentes sean defectuosos?"
   ]
  },
  {
   "cell_type": "code",
   "execution_count": 3,
   "id": "f908679a",
   "metadata": {},
   "outputs": [
    {
     "name": "stdout",
     "output_type": "stream",
     "text": [
      "a) Componentes defectuosos esperados en la muestra: 2.4\n",
      "b) Probabilidad de que exactamente 4 sean defectuosos: 0.13303155078013235\n",
      "c) Probabilidad de que no más de 2 componentes sean defectuosos: 0.5506571973994742\n"
     ]
    }
   ],
   "source": [
    "import scipy.stats as stats\n",
    "\n",
    "# Datos del problema\n",
    "N = 50   # Total de componentes\n",
    "K = 12   # Componentes defectuosos\n",
    "n = 10   # Componentes seleccionados\n",
    "\n",
    "# a) ¿Cuántos componentes defectuosos esperas encontrar en la muestra?\n",
    "esperados = (n * K) / N\n",
    "print(\"a) Componentes defectuosos esperados en la muestra:\", esperados)\n",
    "\n",
    "# b) ¿Cuál es la probabilidad de que exactamente 4 de los componentes seleccionados sean defectuosos?\n",
    "k = 4  # Número de defectuosos en la muestra\n",
    "probabilidad_exacta = stats.hypergeom.pmf(k, N, K, n)\n",
    "print(\"b) Probabilidad de que exactamente 4 sean defectuosos:\", probabilidad_exacta)\n",
    "\n",
    "# c) ¿Cuál es la probabilidad de que no más de 2 componentes sean defectuosos?\n",
    "probabilidad_no_mas_2 = sum(stats.hypergeom.pmf(range(0, 3), N, K, n))\n",
    "print(\"c) Probabilidad de que no más de 2 componentes sean defectuosos:\", probabilidad_no_mas_2)"
   ]
  },
  {
   "cell_type": "markdown",
   "id": "8ee3ccff",
   "metadata": {},
   "source": [
    "<div style=\"display: flex; justify-content: space-between; margin: 20px 0;\">\n",
    "    <a href=\"#ejercicio3\">Siguiente →</a>\n",
    "</div>"
   ]
  },
  {
   "cell_type": "markdown",
   "id": "37314a71",
   "metadata": {},
   "source": [
    "<a id=\"ejercicio3\"></a>\n",
    "<h3>Ejercicio 3</h3>"
   ]
  },
  {
   "cell_type": "markdown",
   "id": "24da3340",
   "metadata": {},
   "source": [
    "\n",
    "Análisis de Componentes. En un estudio de fiabilidad, hay 40 componentes, de los cuales 5 son defectuosos. Si seleccionas 20 componentes al azar, considera:\n",
    "\n",
    "a) ¿Cuántos componentes defectuosos esperas encontrar en la muestra?\n",
    "\n",
    "b) ¿Cuál es la probabilidad de que no haya más de 3 defectuosos en la selección?\n",
    "\n",
    "c) ¿Cuál es la probabilidad de que exactamente 2 sean defectuosos?"
   ]
  },
  {
   "cell_type": "code",
   "execution_count": 4,
   "id": "d1c48d04",
   "metadata": {},
   "outputs": [
    {
     "name": "stdout",
     "output_type": "stream",
     "text": [
      "a) Componentes defectuosos esperados en la muestra: 2.5\n",
      "b) Probabilidad de que no haya más de 3 defectuosos: 0.8291753291753292\n",
      "c) Probabilidad de que exactamente 2 sean defectuosos: 0.3291753291753292\n"
     ]
    }
   ],
   "source": [
    "import scipy.stats as stats\n",
    "\n",
    "# Datos del problema\n",
    "N = 40   # Total de componentes\n",
    "K = 5    # Componentes defectuosos\n",
    "n = 20   # Componentes seleccionados\n",
    "\n",
    "# a) ¿Cuántos componentes defectuosos esperas encontrar en la muestra?\n",
    "esperados = (n * K) / N\n",
    "print(\"a) Componentes defectuosos esperados en la muestra:\", esperados)\n",
    "\n",
    "# b) ¿Cuál es la probabilidad de que no haya más de 3 defectuosos en la selección?\n",
    "probabilidad_no_mas_3 = sum(stats.hypergeom.pmf(range(0, 4), N, K, n))\n",
    "print(\"b) Probabilidad de que no haya más de 3 defectuosos:\", probabilidad_no_mas_3)\n",
    "\n",
    "# c) ¿Cuál es la probabilidad de que exactamente 2 sean defectuosos?\n",
    "k = 2  # Número de defectuosos en la muestra\n",
    "probabilidad_exacta = stats.hypergeom.pmf(k, N, K, n)\n",
    "print(\"c) Probabilidad de que exactamente 2 sean defectuosos:\", probabilidad_exacta)"
   ]
  },
  {
   "cell_type": "markdown",
   "id": "0a4b556d",
   "metadata": {},
   "source": [
    "<div style=\"display: flex; justify-content: space-between; margin: 20px 0;\">\n",
    "    <a href=\"#ejercicio1\"><-Volver</a>\n",
    "</div>"
   ]
  },
  {
   "cell_type": "markdown",
   "id": "4fc0917a",
   "metadata": {},
   "source": []
  }
 ],
 "metadata": {
  "kernelspec": {
   "display_name": "Python 3",
   "language": "python",
   "name": "python3"
  },
  "language_info": {
   "codemirror_mode": {
    "name": "ipython",
    "version": 3
   },
   "file_extension": ".py",
   "mimetype": "text/x-python",
   "name": "python",
   "nbconvert_exporter": "python",
   "pygments_lexer": "ipython3",
   "version": "3.12.6"
  }
 },
 "nbformat": 4,
 "nbformat_minor": 5
}
